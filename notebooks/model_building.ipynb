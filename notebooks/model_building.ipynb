{
 "cells": [
  {
   "cell_type": "markdown",
   "metadata": {},
   "source": [
    "# Model Building\n",
    "## Classification\n"
   ]
  },
  {
   "cell_type": "code",
   "execution_count": null,
   "metadata": {},
   "outputs": [],
   "source": [
    "x_train, x_test, y_train, y_test = train_test_split(x,y,test_size = 0.3, random_state = 42)\n"
   ]
  },
  {
   "cell_type": "code",
   "execution_count": null,
   "metadata": {},
   "outputs": [],
   "source": [
    "def makeClass(y):\n",
    "  y = [\"Dirty\" if x > 500 else \"Clean\" for x in y]\n",
    "  return y"
   ]
  },
  {
   "cell_type": "code",
   "execution_count": null,
   "metadata": {},
   "outputs": [],
   "source": [
    "y_train, y_test = makeClass(y_train),makeClass(y_test)\n"
   ]
  },
  {
   "cell_type": "code",
   "execution_count": null,
   "metadata": {},
   "outputs": [],
   "source": [
    "scaler = MinMaxScaler()\n",
    "x_train = scaler.fit_transform(x_train)\n",
    "x_test = scaler.fit_transform(x_test)\n"
   ]
  },
  {
   "cell_type": "code",
   "execution_count": null,
   "metadata": {},
   "outputs": [],
   "source": [
    "def createModels():\n",
    "  xgBoost = xg.XGBClassifier()\n",
    "  knn = KNeighborsClassifier()\n",
    "  svc = SVC(probability=True)\n",
    "  randomForest = RandomForestClassifier()\n",
    "  adaBoost = AdaBoostClassifier()\n",
    "  nb = GaussianNB()\n",
    "  return ((xgBoost,\"XGBoost Classifier\"),(knn,\"KNN Classifier\"),(svc,\"SVC Classifier\"),(randomForest,\"Random Forest Classifier\"),(adaBoost,\"AdaBoost Classifier\"),(nb,\"Naive Bayes Classifier\"))\n",
    "\n",
    "models = createModels()\n",
    "for model,name in models:\n",
    "  model.fit(x_train,y_train)\n",
    "  print(f\"Accuracy of {name}: {model.score(x_test,y_test)}\")\n"
   ]
  },
  {
   "cell_type": "code",
   "execution_count": null,
   "metadata": {},
   "outputs": [],
   "source": [
    "y_test = [0 if i == \"Clean\" else 1 for i in y_test]\n",
    "for model,name in models:\n",
    "  y_score = model.predict_proba(x_test)[:,1] \n",
    "  false_positive_rate, true_positive_rate, threshold = roc_curve(y_test, y_score)\n",
    "  print(f'roc_auc_score for {name}: ', roc_auc_score(y_test, y_score))\n"
   ]
  },
  {
   "cell_type": "code",
   "execution_count": null,
   "metadata": {},
   "outputs": [],
   "source": [
    "plt.subplots(nrows=2,ncols=3,figsize = (25,15))\n",
    "figurePos = 1\n",
    "for model,name in models:\n",
    "  plt.subplot(2,3,figurePos)\n",
    "  figurePos += 1\n",
    "  y_score = model.predict_proba(x_test)[:,1] \n",
    "  false_positive_rate, true_positive_rate, threshold = roc_curve(y_test, y_score)\n",
    "  plt.title(f\"ROC Curve {name}\")\n",
    "  plt.plot(false_positive_rate, true_positive_rate)\n",
    "  plt.plot([0, 1], ls=\"--\")\n",
    "  plt.plot([0, 0], [1, 0] , c=\".7\"), plt.plot([1, 1] , c=\".7\")\n",
    "  plt.ylabel('True Positive Rate')\n",
    "  plt.xlabel('False Positive Rate')\n",
    "plt.show()"
   ]
  },
  {
   "cell_type": "code",
   "execution_count": null,
   "metadata": {},
   "outputs": [],
   "source": [
    "features = np.concatenate([data.columns[:7],data.columns[8:]])\n",
    "\n",
    "model = xg.XGBClassifier()\n",
    "model.fit(x_train,y_train)\n",
    "feat_imp = pd.DataFrame({'importance':model.feature_importances_})    \n",
    "feat_imp['feature'] = features\n",
    "feat_imp.sort_values(by='importance', ascending=False, inplace=True)\n",
    "feat_imp = feat_imp.iloc[:12]   \n",
    "feat_imp.sort_values(by='importance', inplace=True)\n",
    "feat_imp = feat_imp.set_index('feature', drop=True)\n",
    "feat_imp.plot.barh(title=\"XGBoost\")\n",
    "plt.xlabel('Feature Importance Score')\n",
    "plt.show()\n"
   ]
  },
  {
   "cell_type": "markdown",
   "metadata": {},
   "source": [
    "## Regression"
   ]
  },
  {
   "cell_type": "code",
   "execution_count": null,
   "metadata": {},
   "outputs": [],
   "source": [
    "x_train, x_test, y_train, y_test = train_test_split(x,y,test_size = 0.3, random_state = 42)"
   ]
  },
  {
   "cell_type": "code",
   "execution_count": null,
   "metadata": {},
   "outputs": [],
   "source": [
    "scaler = MinMaxScaler()\n",
    "x_train = scaler.fit_transform(x_train)\n",
    "x_test = scaler.fit_transform(x_test)\n"
   ]
  },
  {
   "cell_type": "code",
   "execution_count": null,
   "metadata": {},
   "outputs": [],
   "source": [
    "regressor = xg.XGBRegressor().fit(x_train,y_train)"
   ]
  },
  {
   "cell_type": "code",
   "execution_count": null,
   "metadata": {},
   "outputs": [],
   "source": [
    "preds = regressor.predict(x_test)\n"
   ]
  },
  {
   "cell_type": "code",
   "execution_count": null,
   "metadata": {},
   "outputs": [],
   "source": [
    "mse = MSE(y_test,preds)\n",
    "r2Score = r2_score(y_test,preds)"
   ]
  },
  {
   "cell_type": "code",
   "execution_count": null,
   "metadata": {},
   "outputs": [],
   "source": [
    "print(\"Metrics for XGBoost Regressor\")\n",
    "print(f\"MSE: {mse}\\nRMSE: {mse ** (1/2)}\\nR^2 Score: {r2Score}\")"
   ]
  },
  {
   "cell_type": "markdown",
   "metadata": {},
   "source": [
    "## Run Classifier By Features\n"
   ]
  },
  {
   "cell_type": "code",
   "execution_count": null,
   "metadata": {},
   "outputs": [],
   "source": [
    "model = KNeighborsClassifier()\n",
    "\n",
    "y = data[\"resultMeanValue\"].values\n",
    "x = data.drop([\"resultMeanValue\"],axis = 1)\n",
    "\n",
    "def makeClass(y):\n",
    "  y = [\"Dirty\" if x > 500 else \"Clean\" for x in y]\n",
    "  return y\n",
    "\n",
    "\n",
    "def fitData(x,y,model,columns):\n",
    "  a = x[columns]\n",
    "  x_train,x_test,y_train,y_test = train_test_split(a,y,test_size = 0.3,random_state=42)\n",
    "  y_train, y_test = makeClass(y_train),makeClass(y_test)\n",
    "  scaler = MinMaxScaler()\n",
    "  x_train = scaler.fit_transform(x_train)\n",
    "  x_test = scaler.fit_transform(x_test)\n",
    "  model.fit(x_train,y_train)\n",
    "  return model.score(x_test,y_test)\n",
    "\n",
    "usedCols = list()\n",
    "scores = list()\n",
    "for col in x.columns:\n",
    "  usedCols.append(col)\n",
    "  score = fitData(x,y,model,usedCols)\n",
    "  scores.append(score)\n",
    "  print(f\"Accuracy with {col} Feature: {score}\")\n",
    "  print(\"-\"*65)\n",
    "\n"
   ]
  },
  {
   "cell_type": "code",
   "execution_count": null,
   "metadata": {},
   "outputs": [],
   "source": [
    "plt.figure(figsize=(25,10))\n",
    "sns.barplot(x=usedCols,y=scores)\n",
    "plt.xticks(rotation=60)\n",
    "plt.show()\n"
   ]
  }
 ],
 "metadata": {
  "language_info": {
   "name": "python"
  }
 },
 "nbformat": 4,
 "nbformat_minor": 2
}
